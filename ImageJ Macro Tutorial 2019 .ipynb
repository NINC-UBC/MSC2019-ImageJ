{
 "cells": [
  {
   "cell_type": "markdown",
   "metadata": {},
   "source": [
    "# ImageJ Macro Recorder Example \n",
    "\n",
    "This example uses data from one of the auto-head fixing cages\n",
    "from Tim’s lab (insert link to paper)\n",
    "- The cages generate potentially 100’s of 256x256x~930 frame XYT stacks per day.\n",
    "- We need a quick way to do quality control, to weed out files where perhaps someone was adjusting the illumination or other mishaps.\n",
    "- By calculating delta F over Fo we could see easily when a particular file was corrupted (changes in illumination gave signals way too large to have originated from GCaMP).\n",
    "- We will try to build up a macro that process all the recordings in a folder starting with the macro recorder to record all the steps."
   ]
  },
  {
   "cell_type": "markdown",
   "metadata": {},
   "source": [
    "### Step 1\n",
    "Open Fiji\n",
    "\n",
    "### Step 2\n",
    "Click *Plugins > Macros > Record*\n",
    "\n",
    "### Step 3 \n",
    "Choose either Macro or Java\n",
    "- Translating to Python (and probably other languages) is easier from Java.\n",
    "\n",
    "### Step 4 \n",
    "Go to *File > Open* and navigate to the tif file in the single tiff folder of your example files folder\n",
    "\n",
    "### Step 5 \n",
    "Go to *Image > Rename*, type in \"current\" and accept\n",
    "\n",
    "### Step 6 \n",
    "Do *Image > Scale* and type in 0.5 for XY\n",
    "\n",
    "### Step 7 \n",
    "Select the window with the original and close\n",
    "\n",
    "### Step 8 \n",
    "Select the \"current-1\" window\n",
    "\n",
    "### Step 9 \n",
    "Do *Image > Stacks > Z project*, pick \"Average Intensity\"\n",
    "\n",
    "### Step 10\n",
    "Do *Process > Image Calculator*, subtract \"AVG_current-1\" from \"current-1\"\n",
    "\n",
    "### Step 11\n",
    "Do *Process > Image Calculator*, divide \"Result of current-1\" by\n",
    "\"AVG_current-1\", select the option for 32 bit float result\n",
    "\n",
    "### Step 12 \n",
    "In turn, select \"Result of current-1\", \"AVG_current-1\", \"current-1\"\n",
    "and close them without saving\n",
    "\n",
    "### Step 13\n",
    "Do *Image > Adjust > Brightness & Contrast*, click *Set* and type\n",
    "-0.02 to .2, ie scale the gray values from -2 to 20% changes\n",
    "\n",
    "### Step 14 \n",
    "Do *Image > lookup Tables > Aselfmade3*\n",
    "\n",
    "### Step 15 \n",
    "When you are done, name your macro and then click *Create*.\n",
    "<br>\n",
    "<br>\n",
    "<br>\n",
    "At this point if you replace the full path and filename in the first\n",
    "line you can repeat these steps on any file!\n"
   ]
  },
  {
   "cell_type": "markdown",
   "metadata": {},
   "source": [
    "# Loop\n",
    "\n",
    "- I like to use the macro recorder to give me the “guts” of the processing that is needed.\n",
    "- We can then place the “guts” inside a loop which will apply our processing steps to each file in a folder for example.\n",
    "- To do this we need a couple of commands: getDirectory & getFileList, and a for loop.\n"
   ]
  },
  {
   "cell_type": "markdown",
   "metadata": {},
   "source": [
    "### Step 1 \n",
    "Create a new macro file in the macro editor and save it with\n",
    "the same name as your macro recorder result with \"_LOOPED\"\n",
    "at the end (or similar)\n"
   ]
  },
  {
   "cell_type": "markdown",
   "metadata": {},
   "source": [
    "### Step 2 "
   ]
  },
  {
   "cell_type": "code",
   "execution_count": null,
   "metadata": {},
   "outputs": [],
   "source": [
    "# At the top, add:\n",
    "\n",
    "path = getDirectory(\"Choose a Directory\");\n",
    "# this is used to pick the folder with the files in it \n",
    "\n",
    "ls = getFileList(path);\n",
    "# this gives you a list of the files "
   ]
  },
  {
   "cell_type": "markdown",
   "metadata": {},
   "source": [
    "### Step 3 "
   ]
  },
  {
   "cell_type": "code",
   "execution_count": null,
   "metadata": {},
   "outputs": [],
   "source": [
    "# Now add the basic structure of a for loop:\n",
    "\n",
    "for (i=0; i<ls.length; i++)\n",
    "{\n",
    "    \n",
    "}\n",
    "\n",
    "# the \"guts\" go in between the curly braces. Copy them in from your macro recorder result."
   ]
  },
  {
   "cell_type": "markdown",
   "metadata": {},
   "source": [
    "### Step 4 "
   ]
  },
  {
   "cell_type": "code",
   "execution_count": null,
   "metadata": {},
   "outputs": [],
   "source": [
    "# Add the following command just before the open command, \n",
    "# then replace the full path and file with fn:\n",
    "\n",
    "fn=path+ls[i];\n",
    "\n",
    "open(fn); "
   ]
  },
  {
   "cell_type": "markdown",
   "metadata": {},
   "source": [
    "### Step 5"
   ]
  },
  {
   "cell_type": "code",
   "execution_count": null,
   "metadata": {},
   "outputs": [],
   "source": [
    "# Rename your image back to the original file name after the operations:\n",
    "\n",
    "rename(ls[i]);"
   ]
  },
  {
   "cell_type": "markdown",
   "metadata": {},
   "source": [
    "### Step 6\n",
    "Now try it on the 5 files tiff folder"
   ]
  }
 ],
 "metadata": {
  "kernelspec": {
   "display_name": "Python 3",
   "language": "python",
   "name": "python3"
  },
  "language_info": {
   "codemirror_mode": {
    "name": "ipython",
    "version": 3
   },
   "file_extension": ".py",
   "mimetype": "text/x-python",
   "name": "python",
   "nbconvert_exporter": "python",
   "pygments_lexer": "ipython3",
   "version": "3.7.1"
  },
  "toc": {
   "base_numbering": 1,
   "nav_menu": {},
   "number_sections": false,
   "sideBar": false,
   "skip_h1_title": false,
   "title_cell": "Table of Contents",
   "title_sidebar": "Contents",
   "toc_cell": false,
   "toc_position": {},
   "toc_section_display": false,
   "toc_window_display": false
  }
 },
 "nbformat": 4,
 "nbformat_minor": 2
}
