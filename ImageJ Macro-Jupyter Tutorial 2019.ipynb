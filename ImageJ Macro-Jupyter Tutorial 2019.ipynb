{
 "cells": [
  {
   "cell_type": "code",
   "execution_count": null,
   "metadata": {
    "scrolled": true
   },
   "outputs": [],
   "source": [
    "import imagej\n",
    "import os \n",
    "\n",
    "ij = imagej.init('net.imagej:imagej+net.imagej:imagej-legacy') # allows use of ImageJ1"
   ]
  },
  {
   "cell_type": "code",
   "execution_count": null,
   "metadata": {},
   "outputs": [],
   "source": [
    "# Note the forward slashes on the paths. Windows use backward slashes by default. \n",
    "\n",
    "in_file = \"C:/Users/User/Documents/ImageJ_testing/DataBinge_ImageJ/DataBinge_ImageJ/ImageJ DB/5 files tiff/test.tif\"\n",
    "\n",
    "out_file = \"C:/Users/User/Documents/ImageJ_testing/DataBinge_ImageJ/DataBinge_ImageJ/ImageJ DB/5 files tiff/res.tif\"\n",
    "\n",
    "\n",
    "def runmacro(in_file, out_file):       \n",
    "    \"\"\"Function that runs a macro. Copy/paste macro as a string assigned to variable, macro.\"\"\"\n",
    "    \n",
    "    print(\"Processing...\")\n",
    "    \n",
    "    macro = \"\"\"open(\"{}\");  \n",
    "            rename(\"current\");\n",
    "            run(\"Scale...\", \"x=0.5 y=0.5 z=1.0 width=128 height=128 depth=925 interpolation=Bilinear average process create\");\n",
    "            selectWindow(\"current\");\n",
    "            close();\n",
    "            selectWindow(\"current-1\");\n",
    "            run(\"Z Project...\", \"projection=[Average Intensity]\");\n",
    "            imageCalculator(\"Subtract create stack\", \"current-1\",\"AVG_current-1\");\n",
    "            selectWindow(\"Result of current-1\");\n",
    "            imageCalculator(\"Divide create 32-bit stack\", \"Result of current-1\",\"AVG_current-1\");  \n",
    "            selectWindow(\"Result of current-1\");\n",
    "            close();\n",
    "            selectWindow(\"AVG_current-1\");\n",
    "            close();\n",
    "            selectWindow(\"current-1\");\n",
    "            close();\n",
    "            selectWindow(\"Result of Result of current-1\");\n",
    "            //run(\"Brightness/Contrast...\");\n",
    "            setMinAndMax(-0.02, 0.20); \n",
    "            saveAs(\"Tiff\", \"{}\");\"\"\".format(in_file, out_file)\n",
    "    \n",
    "    ij.py.run_macro(macro)\n",
    "    print(\"Done\")"
   ]
  },
  {
   "cell_type": "code",
   "execution_count": null,
   "metadata": {
    "scrolled": true
   },
   "outputs": [],
   "source": [
    "runmacro(in_file, out_file)"
   ]
  },
  {
   "cell_type": "code",
   "execution_count": null,
   "metadata": {},
   "outputs": [],
   "source": [
    "# Processing multiple files\n",
    "\n",
    "in_folder = \"C:/Users/User/Documents/ImageJ_testing/DataBinge_ImageJ/DataBinge_ImageJ/ImageJ DB/5 files tiff - Copy/Loop/\"\n",
    "\n",
    "out_folder = \"C:/Users/User/Documents/ImageJ_testing/DataBinge_ImageJ/DataBinge_ImageJ/ImageJ DB/Claire Output/\"\n",
    "\n",
    "\n",
    "def runmacro_loop(in_folder, out_folder):\n",
    "    \"\"\"Function that runs a macro on the files within\n",
    "    in_folder and sends the results to out_folder. Copy/paste macro as a string assigned to variable, macro\"\"\"\n",
    "        \n",
    "    the_files = os.listdir(in_folder)\n",
    "    \n",
    "    # Note that the for loop is outside of the macro variable.\n",
    "    # The macro commands inside the triple quotes, i.e. the string is the same as before. \n",
    "    \n",
    "    for i in the_files:       \n",
    "        print(\"Processing {}\".format(i))                \n",
    "        in_path = in_folder + i        \n",
    "        out_path = out_folder + i[:-4] + \"-processed.tif\"\n",
    "        \n",
    "        macro = \"\"\"open(\"{}\");  \n",
    "            rename(\"current\");\n",
    "            run(\"Scale...\", \"x=0.5 y=0.5 z=1.0 width=128 height=128 depth=925 interpolation=Bilinear average process create\");\n",
    "            selectWindow(\"current\");\n",
    "            close();\n",
    "            selectWindow(\"current-1\");\n",
    "            run(\"Z Project...\", \"projection=[Average Intensity]\");\n",
    "            imageCalculator(\"Subtract create stack\", \"current-1\",\"AVG_current-1\");\n",
    "            selectWindow(\"Result of current-1\");\n",
    "            imageCalculator(\"Divide create 32-bit stack\", \"Result of current-1\",\"AVG_current-1\");  \n",
    "            selectWindow(\"Result of current-1\");\n",
    "            close();\n",
    "            selectWindow(\"AVG_current-1\");\n",
    "            close();\n",
    "            selectWindow(\"current-1\");\n",
    "            close();\n",
    "            selectWindow(\"Result of Result of current-1\");\n",
    "            //run(\"Brightness/Contrast...\");\n",
    "            setMinAndMax(-0.02, 0.20); \n",
    "            saveAs(\"Tiff\", \"{}\");\"\"\".format(in_path, out_path)\n",
    "        \n",
    "        print(\"Image saved\")\n",
    "        ij.py.run_macro(macro)\n",
    "   \n",
    "    print(\"Done\")"
   ]
  },
  {
   "cell_type": "code",
   "execution_count": null,
   "metadata": {},
   "outputs": [],
   "source": [
    "runmacro_loop(in_folder, out_folder)"
   ]
  }
 ],
 "metadata": {
  "kernelspec": {
   "display_name": "Python 3",
   "language": "python",
   "name": "python3"
  },
  "language_info": {
   "codemirror_mode": {
    "name": "ipython",
    "version": 3
   },
   "file_extension": ".py",
   "mimetype": "text/x-python",
   "name": "python",
   "nbconvert_exporter": "python",
   "pygments_lexer": "ipython3",
   "version": "3.7.1"
  },
  "toc": {
   "base_numbering": 1,
   "nav_menu": {},
   "number_sections": false,
   "sideBar": false,
   "skip_h1_title": false,
   "title_cell": "Table of Contents",
   "title_sidebar": "Contents",
   "toc_cell": false,
   "toc_position": {},
   "toc_section_display": false,
   "toc_window_display": false
  }
 },
 "nbformat": 4,
 "nbformat_minor": 2
}
